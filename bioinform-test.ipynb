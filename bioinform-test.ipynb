{
 "cells": [
  {
   "cell_type": "markdown",
   "id": "unlikely-notification",
   "metadata": {},
   "source": [
    "# Task1"
   ]
  },
  {
   "cell_type": "code",
   "execution_count": 1,
   "id": "entitled-minute",
   "metadata": {},
   "outputs": [],
   "source": [
    "import dropbox\n",
    "import argparse\n",
    "import pandas as pd\n",
    "import numpy as np\n",
    "from io import StringIO\n",
    "from datetime import date, datetime, timedelta\n",
    "import random"
   ]
  },
  {
   "cell_type": "code",
   "execution_count": 3,
   "id": "requested-station",
   "metadata": {},
   "outputs": [],
   "source": [
    "TOKEN = 'removed for privacy'\n",
    "dbx = dropbox.Dropbox(TOKEN)\n",
    "#download file\n",
    "md, res = dbx.files_download('/recruitment_project_2/enroll_data.csv')"
   ]
  },
  {
   "cell_type": "code",
   "execution_count": 4,
   "id": "casual-advance",
   "metadata": {},
   "outputs": [],
   "source": [
    "#read byte to string\n",
    "s = str(res.content, 'utf-8')\n",
    "data = StringIO(s)\n",
    "#load string to dataframe\n",
    "df = pd.read_csv(data)"
   ]
  },
  {
   "cell_type": "code",
   "execution_count": 5,
   "id": "boxed-south",
   "metadata": {},
   "outputs": [
    {
     "data": {
      "text/html": [
       "<div>\n",
       "<style scoped>\n",
       "    .dataframe tbody tr th:only-of-type {\n",
       "        vertical-align: middle;\n",
       "    }\n",
       "\n",
       "    .dataframe tbody tr th {\n",
       "        vertical-align: top;\n",
       "    }\n",
       "\n",
       "    .dataframe thead th {\n",
       "        text-align: right;\n",
       "    }\n",
       "</style>\n",
       "<table border=\"1\" class=\"dataframe\">\n",
       "  <thead>\n",
       "    <tr style=\"text-align: right;\">\n",
       "      <th></th>\n",
       "      <th>site ID</th>\n",
       "      <th>date of consent</th>\n",
       "      <th>cohort</th>\n",
       "      <th>birth date</th>\n",
       "    </tr>\n",
       "  </thead>\n",
       "  <tbody>\n",
       "    <tr>\n",
       "      <th>0</th>\n",
       "      <td>BWH</td>\n",
       "      <td>1/1/2020</td>\n",
       "      <td>CHR</td>\n",
       "      <td>1990-01-01</td>\n",
       "    </tr>\n",
       "    <tr>\n",
       "      <th>1</th>\n",
       "      <td>BWH</td>\n",
       "      <td>1/2/2020</td>\n",
       "      <td>CHR</td>\n",
       "      <td>1989-01-02</td>\n",
       "    </tr>\n",
       "    <tr>\n",
       "      <th>2</th>\n",
       "      <td>BWH</td>\n",
       "      <td>1/2/2020</td>\n",
       "      <td>HC</td>\n",
       "      <td>1998-01-03</td>\n",
       "    </tr>\n",
       "    <tr>\n",
       "      <th>3</th>\n",
       "      <td>BWH</td>\n",
       "      <td>1/2/2020</td>\n",
       "      <td>HC</td>\n",
       "      <td>1987-01-04</td>\n",
       "    </tr>\n",
       "    <tr>\n",
       "      <th>4</th>\n",
       "      <td>BWH</td>\n",
       "      <td>1/2/2020</td>\n",
       "      <td>CHR</td>\n",
       "      <td>1986-01-05</td>\n",
       "    </tr>\n",
       "  </tbody>\n",
       "</table>\n",
       "</div>"
      ],
      "text/plain": [
       "  site ID date of consent cohort  birth date\n",
       "0     BWH        1/1/2020    CHR  1990-01-01\n",
       "1     BWH        1/2/2020    CHR  1989-01-02\n",
       "2     BWH        1/2/2020     HC  1998-01-03\n",
       "3     BWH        1/2/2020     HC  1987-01-04\n",
       "4     BWH        1/2/2020    CHR  1986-01-05"
      ]
     },
     "execution_count": 5,
     "metadata": {},
     "output_type": "execute_result"
    }
   ],
   "source": [
    "df.head()"
   ]
  },
  {
   "cell_type": "code",
   "execution_count": 6,
   "id": "complimentary-essex",
   "metadata": {},
   "outputs": [],
   "source": [
    "# find the ages of participant at date of consent\n",
    "\n",
    "# transfer string columns (birthday and DoC) to datetime\n",
    "birthd = pd.to_datetime(df['birth date'], format = '%Y-%m-%d')\n",
    "constd = pd.to_datetime(df['date of consent'], format = '%m/%d/%Y')\n",
    "\n",
    "# age in number of days at consent\n",
    "age_in_days = (constd - birthd).dt.days\n",
    "# age in years (i.e. 36.5 years old -> 36 years old)\n",
    "df['age'] = np.floor(age_in_days / 365).astype(int)\n",
    "\n",
    "df = df.drop('birth date', axis = 1)"
   ]
  },
  {
   "cell_type": "code",
   "execution_count": 7,
   "id": "provincial-graham",
   "metadata": {},
   "outputs": [],
   "source": [
    "# disguise date of conset\n",
    "\n",
    "today = datetime.today()\n",
    "strt_day = pd.to_datetime('1925-01-01')\n",
    "\n",
    "# diff in days between 1925-01-01 and today\n",
    "diff_days = (today - strt_day).days\n",
    "\n",
    "# randomize num of days offset\n",
    "days_offset = []\n",
    "for i in range(0, df.shape[0]):\n",
    "    days_offset += [random.randint(0, 30000) + diff_days]\n",
    "    \n",
    "# store days offset as dataframe\n",
    "offset_df = pd.DataFrame(days_offset, columns = ['days_offset'])\n",
    "\n",
    "# create a new column for DoC by finding number of days (offset) before today\n",
    "df['date of consent'] = offset_df.days_offset.apply(lambda x: today - timedelta(x))\n",
    "df['date of consent'] = pd.to_datetime(df['date of consent']).dt.strftime('%-m/%-d/%Y')"
   ]
  },
  {
   "cell_type": "code",
   "execution_count": 8,
   "id": "presidential-violation",
   "metadata": {},
   "outputs": [
    {
     "data": {
      "text/html": [
       "<div>\n",
       "<style scoped>\n",
       "    .dataframe tbody tr th:only-of-type {\n",
       "        vertical-align: middle;\n",
       "    }\n",
       "\n",
       "    .dataframe tbody tr th {\n",
       "        vertical-align: top;\n",
       "    }\n",
       "\n",
       "    .dataframe thead th {\n",
       "        text-align: right;\n",
       "    }\n",
       "</style>\n",
       "<table border=\"1\" class=\"dataframe\">\n",
       "  <thead>\n",
       "    <tr style=\"text-align: right;\">\n",
       "      <th></th>\n",
       "      <th>site ID</th>\n",
       "      <th>date of consent</th>\n",
       "      <th>cohort</th>\n",
       "      <th>age</th>\n",
       "    </tr>\n",
       "  </thead>\n",
       "  <tbody>\n",
       "    <tr>\n",
       "      <th>0</th>\n",
       "      <td>BWH</td>\n",
       "      <td>9/28/1865</td>\n",
       "      <td>CHR</td>\n",
       "      <td>30</td>\n",
       "    </tr>\n",
       "    <tr>\n",
       "      <th>1</th>\n",
       "      <td>BWH</td>\n",
       "      <td>10/9/1897</td>\n",
       "      <td>CHR</td>\n",
       "      <td>31</td>\n",
       "    </tr>\n",
       "    <tr>\n",
       "      <th>2</th>\n",
       "      <td>BWH</td>\n",
       "      <td>10/15/1894</td>\n",
       "      <td>HC</td>\n",
       "      <td>22</td>\n",
       "    </tr>\n",
       "    <tr>\n",
       "      <th>3</th>\n",
       "      <td>BWH</td>\n",
       "      <td>1/19/1886</td>\n",
       "      <td>HC</td>\n",
       "      <td>33</td>\n",
       "    </tr>\n",
       "    <tr>\n",
       "      <th>4</th>\n",
       "      <td>BWH</td>\n",
       "      <td>11/28/1908</td>\n",
       "      <td>CHR</td>\n",
       "      <td>34</td>\n",
       "    </tr>\n",
       "    <tr>\n",
       "      <th>...</th>\n",
       "      <td>...</td>\n",
       "      <td>...</td>\n",
       "      <td>...</td>\n",
       "      <td>...</td>\n",
       "    </tr>\n",
       "    <tr>\n",
       "      <th>7941</th>\n",
       "      <td>PNC</td>\n",
       "      <td>10/16/1844</td>\n",
       "      <td>CHR</td>\n",
       "      <td>21</td>\n",
       "    </tr>\n",
       "    <tr>\n",
       "      <th>7942</th>\n",
       "      <td>PNC</td>\n",
       "      <td>11/18/1888</td>\n",
       "      <td>HC</td>\n",
       "      <td>32</td>\n",
       "    </tr>\n",
       "    <tr>\n",
       "      <th>7943</th>\n",
       "      <td>PNC</td>\n",
       "      <td>9/30/1881</td>\n",
       "      <td>CHR</td>\n",
       "      <td>33</td>\n",
       "    </tr>\n",
       "    <tr>\n",
       "      <th>7944</th>\n",
       "      <td>PNC</td>\n",
       "      <td>1/16/1887</td>\n",
       "      <td>CHR</td>\n",
       "      <td>24</td>\n",
       "    </tr>\n",
       "    <tr>\n",
       "      <th>7945</th>\n",
       "      <td>PNC</td>\n",
       "      <td>5/30/1912</td>\n",
       "      <td>CHR</td>\n",
       "      <td>35</td>\n",
       "    </tr>\n",
       "  </tbody>\n",
       "</table>\n",
       "<p>7946 rows × 4 columns</p>\n",
       "</div>"
      ],
      "text/plain": [
       "     site ID date of consent cohort  age\n",
       "0        BWH       9/28/1865    CHR   30\n",
       "1        BWH       10/9/1897    CHR   31\n",
       "2        BWH      10/15/1894     HC   22\n",
       "3        BWH       1/19/1886     HC   33\n",
       "4        BWH      11/28/1908    CHR   34\n",
       "...      ...             ...    ...  ...\n",
       "7941     PNC      10/16/1844    CHR   21\n",
       "7942     PNC      11/18/1888     HC   32\n",
       "7943     PNC       9/30/1881    CHR   33\n",
       "7944     PNC       1/16/1887    CHR   24\n",
       "7945     PNC       5/30/1912    CHR   35\n",
       "\n",
       "[7946 rows x 4 columns]"
      ]
     },
     "execution_count": 8,
     "metadata": {},
     "output_type": "execute_result"
    }
   ],
   "source": [
    "df"
   ]
  },
  {
   "cell_type": "code",
   "execution_count": 9,
   "id": "known-hazard",
   "metadata": {},
   "outputs": [
    {
     "data": {
      "text/html": [
       "<div>\n",
       "<style scoped>\n",
       "    .dataframe tbody tr th:only-of-type {\n",
       "        vertical-align: middle;\n",
       "    }\n",
       "\n",
       "    .dataframe tbody tr th {\n",
       "        vertical-align: top;\n",
       "    }\n",
       "\n",
       "    .dataframe thead th {\n",
       "        text-align: right;\n",
       "    }\n",
       "</style>\n",
       "<table border=\"1\" class=\"dataframe\">\n",
       "  <thead>\n",
       "    <tr style=\"text-align: right;\">\n",
       "      <th></th>\n",
       "      <th>days_offset</th>\n",
       "    </tr>\n",
       "  </thead>\n",
       "  <tbody>\n",
       "    <tr>\n",
       "      <th>0</th>\n",
       "      <td>57337</td>\n",
       "    </tr>\n",
       "    <tr>\n",
       "      <th>1</th>\n",
       "      <td>45638</td>\n",
       "    </tr>\n",
       "    <tr>\n",
       "      <th>2</th>\n",
       "      <td>46728</td>\n",
       "    </tr>\n",
       "    <tr>\n",
       "      <th>3</th>\n",
       "      <td>49919</td>\n",
       "    </tr>\n",
       "    <tr>\n",
       "      <th>4</th>\n",
       "      <td>41571</td>\n",
       "    </tr>\n",
       "    <tr>\n",
       "      <th>...</th>\n",
       "      <td>...</td>\n",
       "    </tr>\n",
       "    <tr>\n",
       "      <th>7941</th>\n",
       "      <td>64989</td>\n",
       "    </tr>\n",
       "    <tr>\n",
       "      <th>7942</th>\n",
       "      <td>48885</td>\n",
       "    </tr>\n",
       "    <tr>\n",
       "      <th>7943</th>\n",
       "      <td>51491</td>\n",
       "    </tr>\n",
       "    <tr>\n",
       "      <th>7944</th>\n",
       "      <td>49557</td>\n",
       "    </tr>\n",
       "    <tr>\n",
       "      <th>7945</th>\n",
       "      <td>40292</td>\n",
       "    </tr>\n",
       "  </tbody>\n",
       "</table>\n",
       "<p>7946 rows × 1 columns</p>\n",
       "</div>"
      ],
      "text/plain": [
       "      days_offset\n",
       "0           57337\n",
       "1           45638\n",
       "2           46728\n",
       "3           49919\n",
       "4           41571\n",
       "...           ...\n",
       "7941        64989\n",
       "7942        48885\n",
       "7943        51491\n",
       "7944        49557\n",
       "7945        40292\n",
       "\n",
       "[7946 rows x 1 columns]"
      ]
     },
     "execution_count": 9,
     "metadata": {},
     "output_type": "execute_result"
    }
   ],
   "source": [
    "offset_df"
   ]
  },
  {
   "cell_type": "code",
   "execution_count": 16,
   "id": "2b7219ea",
   "metadata": {},
   "outputs": [],
   "source": [
    "df.to_csv('output_files/enroll_data_anon_YT.csv', index = False)\n",
    "\n",
    "#try uploading to temp folder in dropbox\n",
    "with open('output_files/enroll_data_anon_YT.csv', 'rb') as f:    \n",
    "    meta = dbx.files_upload(f.read(), '/temp/a.csv', mode=dropbox.files.WriteMode(\"overwrite\"))"
   ]
  },
  {
   "cell_type": "markdown",
   "id": "increased-crystal",
   "metadata": {},
   "source": [
    "# Task 2"
   ]
  },
  {
   "cell_type": "code",
   "execution_count": 1,
   "id": "duplicate-outreach",
   "metadata": {},
   "outputs": [],
   "source": [
    "import pandas as pd\n",
    "import nibabel as nib\n",
    "import numpy as np\n",
    "import re"
   ]
  },
  {
   "cell_type": "code",
   "execution_count": 15,
   "id": "9d13c009",
   "metadata": {},
   "outputs": [],
   "source": [
    "# load and read registered data\n",
    "reg = nib.load('brain_data/registered_Warped.nii.gz')\n",
    "reg_data = reg.get_fdata()"
   ]
  },
  {
   "cell_type": "code",
   "execution_count": 16,
   "id": "ae44dbc7",
   "metadata": {},
   "outputs": [
    {
     "data": {
      "text/plain": [
       "(182, 218, 182)"
      ]
     },
     "execution_count": 16,
     "metadata": {},
     "output_type": "execute_result"
    }
   ],
   "source": [
    "reg_data.shape"
   ]
  },
  {
   "cell_type": "code",
   "execution_count": 17,
   "id": "cada343a",
   "metadata": {},
   "outputs": [],
   "source": [
    "#load and read label data\n",
    "label = nib.load('brain_data/atlas-integer-labels.nii.gz')\n",
    "label_data = label.get_fdata()"
   ]
  },
  {
   "cell_type": "code",
   "execution_count": 18,
   "id": "555f183f",
   "metadata": {},
   "outputs": [
    {
     "data": {
      "text/plain": [
       "(182, 218, 182)"
      ]
     },
     "execution_count": 18,
     "metadata": {},
     "output_type": "execute_result"
    }
   ],
   "source": [
    "label_data.shape"
   ]
  },
  {
   "cell_type": "code",
   "execution_count": 19,
   "id": "ebb9b2ec",
   "metadata": {},
   "outputs": [],
   "source": [
    "# find unique labels\n",
    "values, counts = np.unique(label_data, return_counts=True)"
   ]
  },
  {
   "cell_type": "code",
   "execution_count": 23,
   "id": "0b7eb8f6",
   "metadata": {},
   "outputs": [],
   "source": [
    "# for each label, binarize the atlas in label region and multiply to registered image\n",
    "# save label-volume combinations to a dataframe\n",
    "brain_v = []\n",
    "for i in values[1:]:\n",
    "    binary_label = label_data == i\n",
    "    volume = np.count_nonzero(binary_label * reg_data)\n",
    "    brain_v += [[i, volume]]"
   ]
  },
  {
   "cell_type": "code",
   "execution_count": 24,
   "id": "7a911f09",
   "metadata": {},
   "outputs": [],
   "source": [
    "brain_v_df = pd.DataFrame(brain_v, columns = ['label', 'volume'])"
   ]
  },
  {
   "cell_type": "code",
   "execution_count": 25,
   "id": "0f2534c5",
   "metadata": {},
   "outputs": [
    {
     "data": {
      "text/html": [
       "<div>\n",
       "<style scoped>\n",
       "    .dataframe tbody tr th:only-of-type {\n",
       "        vertical-align: middle;\n",
       "    }\n",
       "\n",
       "    .dataframe tbody tr th {\n",
       "        vertical-align: top;\n",
       "    }\n",
       "\n",
       "    .dataframe thead th {\n",
       "        text-align: right;\n",
       "    }\n",
       "</style>\n",
       "<table border=\"1\" class=\"dataframe\">\n",
       "  <thead>\n",
       "    <tr style=\"text-align: right;\">\n",
       "      <th></th>\n",
       "      <th>label</th>\n",
       "      <th>volume</th>\n",
       "    </tr>\n",
       "  </thead>\n",
       "  <tbody>\n",
       "    <tr>\n",
       "      <th>0</th>\n",
       "      <td>1.0</td>\n",
       "      <td>15644</td>\n",
       "    </tr>\n",
       "    <tr>\n",
       "      <th>1</th>\n",
       "      <td>2.0</td>\n",
       "      <td>1500</td>\n",
       "    </tr>\n",
       "    <tr>\n",
       "      <th>2</th>\n",
       "      <td>3.0</td>\n",
       "      <td>8851</td>\n",
       "    </tr>\n",
       "    <tr>\n",
       "      <th>3</th>\n",
       "      <td>4.0</td>\n",
       "      <td>13711</td>\n",
       "    </tr>\n",
       "    <tr>\n",
       "      <th>4</th>\n",
       "      <td>5.0</td>\n",
       "      <td>12729</td>\n",
       "    </tr>\n",
       "  </tbody>\n",
       "</table>\n",
       "</div>"
      ],
      "text/plain": [
       "   label  volume\n",
       "0    1.0   15644\n",
       "1    2.0    1500\n",
       "2    3.0    8851\n",
       "3    4.0   13711\n",
       "4    5.0   12729"
      ]
     },
     "execution_count": 25,
     "metadata": {},
     "output_type": "execute_result"
    }
   ],
   "source": [
    "brain_v_df.head()"
   ]
  },
  {
   "cell_type": "code",
   "execution_count": 26,
   "id": "8aa0849e",
   "metadata": {},
   "outputs": [],
   "source": [
    "# open the raw FreeSurfer text downloaded directly from the web\n",
    "# extract only lines start with numbers \n",
    "with open('FS_Raw.txt', 'r') as f1:\n",
    "    with open('FS.txt', 'w') as f2:\n",
    "        for line in f1:\n",
    "            if re.match(r'^\\d+', line):\n",
    "                f2.write(line)"
   ]
  },
  {
   "cell_type": "code",
   "execution_count": 27,
   "id": "6eaab37f",
   "metadata": {},
   "outputs": [
    {
     "data": {
      "text/html": [
       "<div>\n",
       "<style scoped>\n",
       "    .dataframe tbody tr th:only-of-type {\n",
       "        vertical-align: middle;\n",
       "    }\n",
       "\n",
       "    .dataframe tbody tr th {\n",
       "        vertical-align: top;\n",
       "    }\n",
       "\n",
       "    .dataframe thead th {\n",
       "        text-align: right;\n",
       "    }\n",
       "</style>\n",
       "<table border=\"1\" class=\"dataframe\">\n",
       "  <thead>\n",
       "    <tr style=\"text-align: right;\">\n",
       "      <th></th>\n",
       "      <th>label</th>\n",
       "      <th>name</th>\n",
       "    </tr>\n",
       "  </thead>\n",
       "  <tbody>\n",
       "    <tr>\n",
       "      <th>1</th>\n",
       "      <td>1</td>\n",
       "      <td>Left-Cerebral-Exterior</td>\n",
       "    </tr>\n",
       "    <tr>\n",
       "      <th>2</th>\n",
       "      <td>2</td>\n",
       "      <td>Left-Cerebral-White-Matter</td>\n",
       "    </tr>\n",
       "    <tr>\n",
       "      <th>3</th>\n",
       "      <td>3</td>\n",
       "      <td>Left-Cerebral-Cortex</td>\n",
       "    </tr>\n",
       "    <tr>\n",
       "      <th>4</th>\n",
       "      <td>4</td>\n",
       "      <td>Left-Lateral-Ventricle</td>\n",
       "    </tr>\n",
       "    <tr>\n",
       "      <th>5</th>\n",
       "      <td>5</td>\n",
       "      <td>Left-Inf-Lat-Vent</td>\n",
       "    </tr>\n",
       "  </tbody>\n",
       "</table>\n",
       "</div>"
      ],
      "text/plain": [
       "   label                        name\n",
       "1      1      Left-Cerebral-Exterior\n",
       "2      2  Left-Cerebral-White-Matter\n",
       "3      3        Left-Cerebral-Cortex\n",
       "4      4      Left-Lateral-Ventricle\n",
       "5      5           Left-Inf-Lat-Vent"
      ]
     },
     "execution_count": 27,
     "metadata": {},
     "output_type": "execute_result"
    }
   ],
   "source": [
    "# read the cleaned txt into dataframe\n",
    "fs_df = pd.read_csv('FS.txt', delim_whitespace=True, header = None)\n",
    "# keep first two columns\n",
    "brain_label = fs_df.iloc[1:, 0:2].set_axis(['label', 'name'], axis = 1)\n",
    "brain_label.head()"
   ]
  },
  {
   "cell_type": "code",
   "execution_count": 28,
   "id": "c9895b9d",
   "metadata": {},
   "outputs": [],
   "source": [
    "#join free surfer dataframe with the brain volume dataframe on label\n",
    "result = pd.merge(brain_label, brain_v_df, how=\"right\", on=['label'])"
   ]
  },
  {
   "cell_type": "code",
   "execution_count": 29,
   "id": "bba92d09",
   "metadata": {},
   "outputs": [
    {
     "data": {
      "text/html": [
       "<div>\n",
       "<style scoped>\n",
       "    .dataframe tbody tr th:only-of-type {\n",
       "        vertical-align: middle;\n",
       "    }\n",
       "\n",
       "    .dataframe tbody tr th {\n",
       "        vertical-align: top;\n",
       "    }\n",
       "\n",
       "    .dataframe thead th {\n",
       "        text-align: right;\n",
       "    }\n",
       "</style>\n",
       "<table border=\"1\" class=\"dataframe\">\n",
       "  <thead>\n",
       "    <tr style=\"text-align: right;\">\n",
       "      <th></th>\n",
       "      <th>label</th>\n",
       "      <th>name</th>\n",
       "      <th>volume</th>\n",
       "    </tr>\n",
       "  </thead>\n",
       "  <tbody>\n",
       "    <tr>\n",
       "      <th>0</th>\n",
       "      <td>1</td>\n",
       "      <td>Left-Cerebral-Exterior</td>\n",
       "      <td>15644</td>\n",
       "    </tr>\n",
       "    <tr>\n",
       "      <th>1</th>\n",
       "      <td>2</td>\n",
       "      <td>Left-Cerebral-White-Matter</td>\n",
       "      <td>1500</td>\n",
       "    </tr>\n",
       "    <tr>\n",
       "      <th>2</th>\n",
       "      <td>3</td>\n",
       "      <td>Left-Cerebral-Cortex</td>\n",
       "      <td>8851</td>\n",
       "    </tr>\n",
       "    <tr>\n",
       "      <th>3</th>\n",
       "      <td>4</td>\n",
       "      <td>Left-Lateral-Ventricle</td>\n",
       "      <td>13711</td>\n",
       "    </tr>\n",
       "    <tr>\n",
       "      <th>4</th>\n",
       "      <td>5</td>\n",
       "      <td>Left-Inf-Lat-Vent</td>\n",
       "      <td>12729</td>\n",
       "    </tr>\n",
       "  </tbody>\n",
       "</table>\n",
       "</div>"
      ],
      "text/plain": [
       "   label                        name  volume\n",
       "0      1      Left-Cerebral-Exterior   15644\n",
       "1      2  Left-Cerebral-White-Matter    1500\n",
       "2      3        Left-Cerebral-Cortex    8851\n",
       "3      4      Left-Lateral-Ventricle   13711\n",
       "4      5           Left-Inf-Lat-Vent   12729"
      ]
     },
     "execution_count": 29,
     "metadata": {},
     "output_type": "execute_result"
    }
   ],
   "source": [
    "result.head()"
   ]
  },
  {
   "cell_type": "code",
   "execution_count": 30,
   "id": "62b5ef78",
   "metadata": {},
   "outputs": [],
   "source": [
    "result.to_csv('brain_region_volume_YT.csv', index = False)"
   ]
  },
  {
   "cell_type": "code",
   "execution_count": null,
   "id": "1ac797a4",
   "metadata": {},
   "outputs": [],
   "source": []
  }
 ],
 "metadata": {
  "kernelspec": {
   "display_name": "Python 3 (ipykernel)",
   "language": "python",
   "name": "python3"
  },
  "language_info": {
   "codemirror_mode": {
    "name": "ipython",
    "version": 3
   },
   "file_extension": ".py",
   "mimetype": "text/x-python",
   "name": "python",
   "nbconvert_exporter": "python",
   "pygments_lexer": "ipython3",
   "version": "3.7.13"
  }
 },
 "nbformat": 4,
 "nbformat_minor": 5
}
